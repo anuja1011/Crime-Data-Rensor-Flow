{
 "cells": [
  {
   "cell_type": "markdown",
   "metadata": {},
   "source": [
    "# Assignment for Lovekesh Bansal and Anuja Srivastava"
   ]
  },
  {
   "cell_type": "markdown",
   "metadata": {},
   "source": [
    "# Importing the libraries needed"
   ]
  },
  {
   "cell_type": "code",
   "execution_count": 1,
   "metadata": {},
   "outputs": [],
   "source": [
    "import numpy as np\n",
    "import matplotlib.pyplot as plt\n",
    "import tensorflow as tf\n",
    "import sklearn\n",
    "from sklearn.model_selection import train_test_split\n",
    "import pandas as pd\n",
    "\n",
    "%matplotlib inline"
   ]
  },
  {
   "cell_type": "markdown",
   "metadata": {},
   "source": [
    "Importing the dataset\n",
    "\n",
    "In the following cells it will be converted to datasets that will be required by the model\n",
    "\n",
    "I am splitting the dataset into 3 categories:\n",
    "-Train\n",
    "-Validate\n",
    "-Test"
   ]
  },
  {
   "cell_type": "code",
   "execution_count": 2,
   "metadata": {},
   "outputs": [
    {
     "name": "stdout",
     "output_type": "stream",
     "text": [
      "working on it\n",
      "done\n"
     ]
    }
   ],
   "source": [
    "print(\"working on it\")\n",
    "df = pd.read_csv(\"Crimes_-_2001_to_present.csv\")\n",
    "# data = np.genfromtxt('Crimes_-_2001_to_present.csv', delimiter=',')\n",
    "print(\"done\")\n",
    "\n",
    "\n",
    "# 1:28 PM - trigger time"
   ]
  },
  {
   "cell_type": "code",
   "execution_count": 3,
   "metadata": {},
   "outputs": [
    {
     "data": {
      "text/plain": [
       "(6721685, 22)"
      ]
     },
     "execution_count": 3,
     "metadata": {},
     "output_type": "execute_result"
    }
   ],
   "source": [
    "df.shape"
   ]
  },
  {
   "cell_type": "code",
   "execution_count": 4,
   "metadata": {},
   "outputs": [],
   "source": [
    "df_dropped_na = df\n",
    "    \n",
    "df_dropped_na.replace('?', np.nan, inplace=True)\n",
    "\n",
    "df_dropped_na.dropna(inplace=True)"
   ]
  },
  {
   "cell_type": "code",
   "execution_count": 5,
   "metadata": {},
   "outputs": [
    {
     "data": {
      "text/plain": [
       "(6051694, 22)"
      ]
     },
     "execution_count": 5,
     "metadata": {},
     "output_type": "execute_result"
    }
   ],
   "source": [
    "df_dropped_na.shape"
   ]
  },
  {
   "cell_type": "markdown",
   "metadata": {},
   "source": [
    "# Reduce the dataset to 100000\n",
    "\n",
    "This is done because the machine was taking a lot of time. The time at the end is corresponding to this reduced dataset."
   ]
  },
  {
   "cell_type": "code",
   "execution_count": 6,
   "metadata": {},
   "outputs": [],
   "source": [
    "size_data = 100000"
   ]
  },
  {
   "cell_type": "code",
   "execution_count": 7,
   "metadata": {},
   "outputs": [],
   "source": [
    "df_10000 = df_dropped_na.iloc[:size_data]"
   ]
  },
  {
   "cell_type": "code",
   "execution_count": 8,
   "metadata": {},
   "outputs": [
    {
     "data": {
      "text/plain": [
       "(100000, 22)"
      ]
     },
     "execution_count": 8,
     "metadata": {},
     "output_type": "execute_result"
    }
   ],
   "source": [
    "df_10000.shape"
   ]
  },
  {
   "cell_type": "code",
   "execution_count": 9,
   "metadata": {},
   "outputs": [
    {
     "data": {
      "text/html": [
       "<div>\n",
       "<style scoped>\n",
       "    .dataframe tbody tr th:only-of-type {\n",
       "        vertical-align: middle;\n",
       "    }\n",
       "\n",
       "    .dataframe tbody tr th {\n",
       "        vertical-align: top;\n",
       "    }\n",
       "\n",
       "    .dataframe thead th {\n",
       "        text-align: right;\n",
       "    }\n",
       "</style>\n",
       "<table border=\"1\" class=\"dataframe\">\n",
       "  <thead>\n",
       "    <tr style=\"text-align: right;\">\n",
       "      <th></th>\n",
       "      <th>ID</th>\n",
       "      <th>Case Number</th>\n",
       "      <th>Date</th>\n",
       "      <th>Block</th>\n",
       "      <th>IUCR</th>\n",
       "      <th>Primary Type</th>\n",
       "      <th>Description</th>\n",
       "      <th>Location Description</th>\n",
       "      <th>Arrest</th>\n",
       "      <th>Domestic</th>\n",
       "      <th>...</th>\n",
       "      <th>Ward</th>\n",
       "      <th>Community Area</th>\n",
       "      <th>FBI Code</th>\n",
       "      <th>X Coordinate</th>\n",
       "      <th>Y Coordinate</th>\n",
       "      <th>Year</th>\n",
       "      <th>Updated On</th>\n",
       "      <th>Latitude</th>\n",
       "      <th>Longitude</th>\n",
       "      <th>Location</th>\n",
       "    </tr>\n",
       "  </thead>\n",
       "  <tbody>\n",
       "    <tr>\n",
       "      <th>0</th>\n",
       "      <td>10000092</td>\n",
       "      <td>HY189866</td>\n",
       "      <td>03/18/2015 07:44:00 PM</td>\n",
       "      <td>047XX W OHIO ST</td>\n",
       "      <td>041A</td>\n",
       "      <td>BATTERY</td>\n",
       "      <td>AGGRAVATED: HANDGUN</td>\n",
       "      <td>STREET</td>\n",
       "      <td>False</td>\n",
       "      <td>False</td>\n",
       "      <td>...</td>\n",
       "      <td>28.0</td>\n",
       "      <td>25.0</td>\n",
       "      <td>04B</td>\n",
       "      <td>1144606.0</td>\n",
       "      <td>1903566.0</td>\n",
       "      <td>2015</td>\n",
       "      <td>02/10/2018 03:50:01 PM</td>\n",
       "      <td>41.891399</td>\n",
       "      <td>-87.744385</td>\n",
       "      <td>(41.891398861, -87.744384567)</td>\n",
       "    </tr>\n",
       "    <tr>\n",
       "      <th>1</th>\n",
       "      <td>10000094</td>\n",
       "      <td>HY190059</td>\n",
       "      <td>03/18/2015 11:00:00 PM</td>\n",
       "      <td>066XX S MARSHFIELD AVE</td>\n",
       "      <td>4625</td>\n",
       "      <td>OTHER OFFENSE</td>\n",
       "      <td>PAROLE VIOLATION</td>\n",
       "      <td>STREET</td>\n",
       "      <td>True</td>\n",
       "      <td>False</td>\n",
       "      <td>...</td>\n",
       "      <td>15.0</td>\n",
       "      <td>67.0</td>\n",
       "      <td>26</td>\n",
       "      <td>1166468.0</td>\n",
       "      <td>1860715.0</td>\n",
       "      <td>2015</td>\n",
       "      <td>02/10/2018 03:50:01 PM</td>\n",
       "      <td>41.773372</td>\n",
       "      <td>-87.665319</td>\n",
       "      <td>(41.773371528, -87.665319468)</td>\n",
       "    </tr>\n",
       "    <tr>\n",
       "      <th>2</th>\n",
       "      <td>10000095</td>\n",
       "      <td>HY190052</td>\n",
       "      <td>03/18/2015 10:45:00 PM</td>\n",
       "      <td>044XX S LAKE PARK AVE</td>\n",
       "      <td>0486</td>\n",
       "      <td>BATTERY</td>\n",
       "      <td>DOMESTIC BATTERY SIMPLE</td>\n",
       "      <td>APARTMENT</td>\n",
       "      <td>False</td>\n",
       "      <td>True</td>\n",
       "      <td>...</td>\n",
       "      <td>4.0</td>\n",
       "      <td>39.0</td>\n",
       "      <td>08B</td>\n",
       "      <td>1185075.0</td>\n",
       "      <td>1875622.0</td>\n",
       "      <td>2015</td>\n",
       "      <td>02/10/2018 03:50:01 PM</td>\n",
       "      <td>41.813861</td>\n",
       "      <td>-87.596643</td>\n",
       "      <td>(41.81386068, -87.596642837)</td>\n",
       "    </tr>\n",
       "    <tr>\n",
       "      <th>3</th>\n",
       "      <td>10000096</td>\n",
       "      <td>HY190054</td>\n",
       "      <td>03/18/2015 10:30:00 PM</td>\n",
       "      <td>051XX S MICHIGAN AVE</td>\n",
       "      <td>0460</td>\n",
       "      <td>BATTERY</td>\n",
       "      <td>SIMPLE</td>\n",
       "      <td>APARTMENT</td>\n",
       "      <td>False</td>\n",
       "      <td>False</td>\n",
       "      <td>...</td>\n",
       "      <td>3.0</td>\n",
       "      <td>40.0</td>\n",
       "      <td>08B</td>\n",
       "      <td>1178033.0</td>\n",
       "      <td>1870804.0</td>\n",
       "      <td>2015</td>\n",
       "      <td>02/10/2018 03:50:01 PM</td>\n",
       "      <td>41.800802</td>\n",
       "      <td>-87.622619</td>\n",
       "      <td>(41.800802415, -87.622619343)</td>\n",
       "    </tr>\n",
       "    <tr>\n",
       "      <th>4</th>\n",
       "      <td>10000097</td>\n",
       "      <td>HY189976</td>\n",
       "      <td>03/18/2015 09:00:00 PM</td>\n",
       "      <td>047XX W ADAMS ST</td>\n",
       "      <td>031A</td>\n",
       "      <td>ROBBERY</td>\n",
       "      <td>ARMED: HANDGUN</td>\n",
       "      <td>SIDEWALK</td>\n",
       "      <td>False</td>\n",
       "      <td>False</td>\n",
       "      <td>...</td>\n",
       "      <td>28.0</td>\n",
       "      <td>25.0</td>\n",
       "      <td>03</td>\n",
       "      <td>1144920.0</td>\n",
       "      <td>1898709.0</td>\n",
       "      <td>2015</td>\n",
       "      <td>02/10/2018 03:50:01 PM</td>\n",
       "      <td>41.878065</td>\n",
       "      <td>-87.743354</td>\n",
       "      <td>(41.878064761, -87.743354013)</td>\n",
       "    </tr>\n",
       "  </tbody>\n",
       "</table>\n",
       "<p>5 rows × 22 columns</p>\n",
       "</div>"
      ],
      "text/plain": [
       "         ID Case Number                    Date                   Block  IUCR  \\\n",
       "0  10000092    HY189866  03/18/2015 07:44:00 PM         047XX W OHIO ST  041A   \n",
       "1  10000094    HY190059  03/18/2015 11:00:00 PM  066XX S MARSHFIELD AVE  4625   \n",
       "2  10000095    HY190052  03/18/2015 10:45:00 PM   044XX S LAKE PARK AVE  0486   \n",
       "3  10000096    HY190054  03/18/2015 10:30:00 PM    051XX S MICHIGAN AVE  0460   \n",
       "4  10000097    HY189976  03/18/2015 09:00:00 PM        047XX W ADAMS ST  031A   \n",
       "\n",
       "    Primary Type              Description Location Description  Arrest  \\\n",
       "0        BATTERY      AGGRAVATED: HANDGUN               STREET   False   \n",
       "1  OTHER OFFENSE         PAROLE VIOLATION               STREET    True   \n",
       "2        BATTERY  DOMESTIC BATTERY SIMPLE            APARTMENT   False   \n",
       "3        BATTERY                   SIMPLE            APARTMENT   False   \n",
       "4        ROBBERY           ARMED: HANDGUN             SIDEWALK   False   \n",
       "\n",
       "   Domestic              ...                Ward  Community Area  FBI Code  \\\n",
       "0     False              ...                28.0            25.0       04B   \n",
       "1     False              ...                15.0            67.0        26   \n",
       "2      True              ...                 4.0            39.0       08B   \n",
       "3     False              ...                 3.0            40.0       08B   \n",
       "4     False              ...                28.0            25.0        03   \n",
       "\n",
       "   X Coordinate Y Coordinate  Year              Updated On   Latitude  \\\n",
       "0     1144606.0    1903566.0  2015  02/10/2018 03:50:01 PM  41.891399   \n",
       "1     1166468.0    1860715.0  2015  02/10/2018 03:50:01 PM  41.773372   \n",
       "2     1185075.0    1875622.0  2015  02/10/2018 03:50:01 PM  41.813861   \n",
       "3     1178033.0    1870804.0  2015  02/10/2018 03:50:01 PM  41.800802   \n",
       "4     1144920.0    1898709.0  2015  02/10/2018 03:50:01 PM  41.878065   \n",
       "\n",
       "   Longitude                       Location  \n",
       "0 -87.744385  (41.891398861, -87.744384567)  \n",
       "1 -87.665319  (41.773371528, -87.665319468)  \n",
       "2 -87.596643   (41.81386068, -87.596642837)  \n",
       "3 -87.622619  (41.800802415, -87.622619343)  \n",
       "4 -87.743354  (41.878064761, -87.743354013)  \n",
       "\n",
       "[5 rows x 22 columns]"
      ]
     },
     "execution_count": 9,
     "metadata": {},
     "output_type": "execute_result"
    }
   ],
   "source": [
    "df_10000.head()"
   ]
  },
  {
   "cell_type": "markdown",
   "metadata": {},
   "source": [
    "# Select the columns to work upon"
   ]
  },
  {
   "cell_type": "markdown",
   "metadata": {},
   "source": [
    "We read the site and found that 2 columns will be sufficient to predict Primary Type."
   ]
  },
  {
   "cell_type": "code",
   "execution_count": 10,
   "metadata": {},
   "outputs": [],
   "source": [
    "work_data_df = df_10000.iloc[:,4:7]"
   ]
  },
  {
   "cell_type": "code",
   "execution_count": 11,
   "metadata": {},
   "outputs": [
    {
     "data": {
      "text/html": [
       "<div>\n",
       "<style scoped>\n",
       "    .dataframe tbody tr th:only-of-type {\n",
       "        vertical-align: middle;\n",
       "    }\n",
       "\n",
       "    .dataframe tbody tr th {\n",
       "        vertical-align: top;\n",
       "    }\n",
       "\n",
       "    .dataframe thead th {\n",
       "        text-align: right;\n",
       "    }\n",
       "</style>\n",
       "<table border=\"1\" class=\"dataframe\">\n",
       "  <thead>\n",
       "    <tr style=\"text-align: right;\">\n",
       "      <th></th>\n",
       "      <th>IUCR</th>\n",
       "      <th>Primary Type</th>\n",
       "      <th>Description</th>\n",
       "    </tr>\n",
       "  </thead>\n",
       "  <tbody>\n",
       "    <tr>\n",
       "      <th>0</th>\n",
       "      <td>041A</td>\n",
       "      <td>BATTERY</td>\n",
       "      <td>AGGRAVATED: HANDGUN</td>\n",
       "    </tr>\n",
       "    <tr>\n",
       "      <th>1</th>\n",
       "      <td>4625</td>\n",
       "      <td>OTHER OFFENSE</td>\n",
       "      <td>PAROLE VIOLATION</td>\n",
       "    </tr>\n",
       "    <tr>\n",
       "      <th>2</th>\n",
       "      <td>0486</td>\n",
       "      <td>BATTERY</td>\n",
       "      <td>DOMESTIC BATTERY SIMPLE</td>\n",
       "    </tr>\n",
       "    <tr>\n",
       "      <th>3</th>\n",
       "      <td>0460</td>\n",
       "      <td>BATTERY</td>\n",
       "      <td>SIMPLE</td>\n",
       "    </tr>\n",
       "    <tr>\n",
       "      <th>4</th>\n",
       "      <td>031A</td>\n",
       "      <td>ROBBERY</td>\n",
       "      <td>ARMED: HANDGUN</td>\n",
       "    </tr>\n",
       "  </tbody>\n",
       "</table>\n",
       "</div>"
      ],
      "text/plain": [
       "   IUCR   Primary Type              Description\n",
       "0  041A        BATTERY      AGGRAVATED: HANDGUN\n",
       "1  4625  OTHER OFFENSE         PAROLE VIOLATION\n",
       "2  0486        BATTERY  DOMESTIC BATTERY SIMPLE\n",
       "3  0460        BATTERY                   SIMPLE\n",
       "4  031A        ROBBERY           ARMED: HANDGUN"
      ]
     },
     "execution_count": 11,
     "metadata": {},
     "output_type": "execute_result"
    }
   ],
   "source": [
    "work_data_df.head()"
   ]
  },
  {
   "cell_type": "code",
   "execution_count": 12,
   "metadata": {
    "scrolled": true
   },
   "outputs": [
    {
     "data": {
      "text/plain": [
       "Primary Type\n",
       "ARSON                                 5\n",
       "ASSAULT                              15\n",
       "BATTERY                              25\n",
       "BURGLARY                              4\n",
       "CONCEALED CARRY LICENSE VIOLATION     3\n",
       "CRIM SEXUAL ASSAULT                  10\n",
       "CRIMINAL DAMAGE                       8\n",
       "CRIMINAL TRESPASS                     5\n",
       "DECEPTIVE PRACTICE                   28\n",
       "GAMBLING                              4\n",
       "HOMICIDE                              2\n",
       "HUMAN TRAFFICKING                     2\n",
       "INTERFERENCE WITH PUBLIC OFFICER      7\n",
       "INTIMIDATION                          2\n",
       "KIDNAPPING                            6\n",
       "LIQUOR LAW VIOLATION                  5\n",
       "MOTOR VEHICLE THEFT                   9\n",
       "NARCOTICS                            38\n",
       "NON - CRIMINAL                        1\n",
       "NON-CRIMINAL                          1\n",
       "OBSCENITY                             3\n",
       "OFFENSE INVOLVING CHILDREN           14\n",
       "OTHER NARCOTIC VIOLATION              1\n",
       "OTHER OFFENSE                        33\n",
       "PROSTITUTION                         10\n",
       "PUBLIC INDECENCY                      1\n",
       "PUBLIC PEACE VIOLATION               10\n",
       "ROBBERY                              14\n",
       "SEX OFFENSE                          10\n",
       "STALKING                              4\n",
       "THEFT                                12\n",
       "WEAPONS VIOLATION                    11\n",
       "Name: IUCR, dtype: int64"
      ]
     },
     "execution_count": 12,
     "metadata": {},
     "output_type": "execute_result"
    }
   ],
   "source": [
    "work_data_df.groupby('Primary Type')['IUCR'].nunique()"
   ]
  },
  {
   "cell_type": "code",
   "execution_count": 13,
   "metadata": {},
   "outputs": [],
   "source": [
    "# work_data_df['Primary Type']=pd.factorize(work_data_df['Primary Type'])[0] + 1"
   ]
  },
  {
   "cell_type": "code",
   "execution_count": 14,
   "metadata": {},
   "outputs": [],
   "source": [
    "# print(\"Working on it...\")\n",
    "# work_data_df_wth_dummy=pd.get_dummies(work_data_df,columns=['IUCR','Description'])\n",
    "# print(\"Done!!!\")"
   ]
  },
  {
   "cell_type": "code",
   "execution_count": 15,
   "metadata": {},
   "outputs": [],
   "source": [
    "# work_data_df['Description']=pd.factorize(work_data_df['Description'])[0] + 1\n",
    "# work_data_df['IUCR']=pd.factorize(work_data_df['IUCR'])[0] + 1\n",
    "# work_data_df['Primary Type']=pd.factorize(work_data_df['Primary Type'])[0] + 1"
   ]
  },
  {
   "cell_type": "code",
   "execution_count": 16,
   "metadata": {},
   "outputs": [],
   "source": [
    "# work_data_df_wth_dummy.head()"
   ]
  },
  {
   "cell_type": "code",
   "execution_count": 17,
   "metadata": {},
   "outputs": [],
   "source": [
    "X_work_data_df = work_data_df.iloc[:,[0,2]]"
   ]
  },
  {
   "cell_type": "code",
   "execution_count": 18,
   "metadata": {},
   "outputs": [
    {
     "data": {
      "text/html": [
       "<div>\n",
       "<style scoped>\n",
       "    .dataframe tbody tr th:only-of-type {\n",
       "        vertical-align: middle;\n",
       "    }\n",
       "\n",
       "    .dataframe tbody tr th {\n",
       "        vertical-align: top;\n",
       "    }\n",
       "\n",
       "    .dataframe thead th {\n",
       "        text-align: right;\n",
       "    }\n",
       "</style>\n",
       "<table border=\"1\" class=\"dataframe\">\n",
       "  <thead>\n",
       "    <tr style=\"text-align: right;\">\n",
       "      <th></th>\n",
       "      <th>IUCR</th>\n",
       "      <th>Description</th>\n",
       "    </tr>\n",
       "  </thead>\n",
       "  <tbody>\n",
       "    <tr>\n",
       "      <th>0</th>\n",
       "      <td>041A</td>\n",
       "      <td>AGGRAVATED: HANDGUN</td>\n",
       "    </tr>\n",
       "    <tr>\n",
       "      <th>1</th>\n",
       "      <td>4625</td>\n",
       "      <td>PAROLE VIOLATION</td>\n",
       "    </tr>\n",
       "    <tr>\n",
       "      <th>2</th>\n",
       "      <td>0486</td>\n",
       "      <td>DOMESTIC BATTERY SIMPLE</td>\n",
       "    </tr>\n",
       "    <tr>\n",
       "      <th>3</th>\n",
       "      <td>0460</td>\n",
       "      <td>SIMPLE</td>\n",
       "    </tr>\n",
       "    <tr>\n",
       "      <th>4</th>\n",
       "      <td>031A</td>\n",
       "      <td>ARMED: HANDGUN</td>\n",
       "    </tr>\n",
       "  </tbody>\n",
       "</table>\n",
       "</div>"
      ],
      "text/plain": [
       "   IUCR              Description\n",
       "0  041A      AGGRAVATED: HANDGUN\n",
       "1  4625         PAROLE VIOLATION\n",
       "2  0486  DOMESTIC BATTERY SIMPLE\n",
       "3  0460                   SIMPLE\n",
       "4  031A           ARMED: HANDGUN"
      ]
     },
     "execution_count": 18,
     "metadata": {},
     "output_type": "execute_result"
    }
   ],
   "source": [
    "X_work_data_df.head()"
   ]
  },
  {
   "cell_type": "markdown",
   "metadata": {},
   "source": [
    "We are converting our dataset into dummies for better prediction"
   ]
  },
  {
   "cell_type": "code",
   "execution_count": 19,
   "metadata": {},
   "outputs": [],
   "source": [
    "X_work_data_df_wth_dummy = pd.get_dummies(X_work_data_df)"
   ]
  },
  {
   "cell_type": "code",
   "execution_count": 20,
   "metadata": {},
   "outputs": [
    {
     "data": {
      "text/html": [
       "<div>\n",
       "<style scoped>\n",
       "    .dataframe tbody tr th:only-of-type {\n",
       "        vertical-align: middle;\n",
       "    }\n",
       "\n",
       "    .dataframe tbody tr th {\n",
       "        vertical-align: top;\n",
       "    }\n",
       "\n",
       "    .dataframe thead th {\n",
       "        text-align: right;\n",
       "    }\n",
       "</style>\n",
       "<table border=\"1\" class=\"dataframe\">\n",
       "  <thead>\n",
       "    <tr style=\"text-align: right;\">\n",
       "      <th></th>\n",
       "      <th>IUCR_0110</th>\n",
       "      <th>IUCR_0142</th>\n",
       "      <th>IUCR_0261</th>\n",
       "      <th>IUCR_0263</th>\n",
       "      <th>IUCR_0264</th>\n",
       "      <th>IUCR_0265</th>\n",
       "      <th>IUCR_0266</th>\n",
       "      <th>IUCR_0271</th>\n",
       "      <th>IUCR_0273</th>\n",
       "      <th>IUCR_0275</th>\n",
       "      <th>...</th>\n",
       "      <th>Description_VEHICLE TITLE/REG OFFENSE</th>\n",
       "      <th>Description_VEHICULAR HIJACKING</th>\n",
       "      <th>Description_VIO BAIL BOND: DOM VIOLENCE</th>\n",
       "      <th>Description_VIOLATE ORDER OF PROTECTION</th>\n",
       "      <th>Description_VIOLATION GPS MONITORING DEVICE</th>\n",
       "      <th>Description_VIOLATION OF CIVIL NO CONTACT ORDER</th>\n",
       "      <th>Description_VIOLATION OF STALKING NO CONTACT ORDER</th>\n",
       "      <th>Description_VIOLENT OFFENDER: ANNUAL REGISTRATION</th>\n",
       "      <th>Description_VIOLENT OFFENDER: DUTY TO REGISTER</th>\n",
       "      <th>Description_VIOLENT OFFENDER: FAIL TO REGISTER NEW ADDRESS</th>\n",
       "    </tr>\n",
       "  </thead>\n",
       "  <tbody>\n",
       "    <tr>\n",
       "      <th>0</th>\n",
       "      <td>0</td>\n",
       "      <td>0</td>\n",
       "      <td>0</td>\n",
       "      <td>0</td>\n",
       "      <td>0</td>\n",
       "      <td>0</td>\n",
       "      <td>0</td>\n",
       "      <td>0</td>\n",
       "      <td>0</td>\n",
       "      <td>0</td>\n",
       "      <td>...</td>\n",
       "      <td>0</td>\n",
       "      <td>0</td>\n",
       "      <td>0</td>\n",
       "      <td>0</td>\n",
       "      <td>0</td>\n",
       "      <td>0</td>\n",
       "      <td>0</td>\n",
       "      <td>0</td>\n",
       "      <td>0</td>\n",
       "      <td>0</td>\n",
       "    </tr>\n",
       "    <tr>\n",
       "      <th>1</th>\n",
       "      <td>0</td>\n",
       "      <td>0</td>\n",
       "      <td>0</td>\n",
       "      <td>0</td>\n",
       "      <td>0</td>\n",
       "      <td>0</td>\n",
       "      <td>0</td>\n",
       "      <td>0</td>\n",
       "      <td>0</td>\n",
       "      <td>0</td>\n",
       "      <td>...</td>\n",
       "      <td>0</td>\n",
       "      <td>0</td>\n",
       "      <td>0</td>\n",
       "      <td>0</td>\n",
       "      <td>0</td>\n",
       "      <td>0</td>\n",
       "      <td>0</td>\n",
       "      <td>0</td>\n",
       "      <td>0</td>\n",
       "      <td>0</td>\n",
       "    </tr>\n",
       "    <tr>\n",
       "      <th>2</th>\n",
       "      <td>0</td>\n",
       "      <td>0</td>\n",
       "      <td>0</td>\n",
       "      <td>0</td>\n",
       "      <td>0</td>\n",
       "      <td>0</td>\n",
       "      <td>0</td>\n",
       "      <td>0</td>\n",
       "      <td>0</td>\n",
       "      <td>0</td>\n",
       "      <td>...</td>\n",
       "      <td>0</td>\n",
       "      <td>0</td>\n",
       "      <td>0</td>\n",
       "      <td>0</td>\n",
       "      <td>0</td>\n",
       "      <td>0</td>\n",
       "      <td>0</td>\n",
       "      <td>0</td>\n",
       "      <td>0</td>\n",
       "      <td>0</td>\n",
       "    </tr>\n",
       "    <tr>\n",
       "      <th>3</th>\n",
       "      <td>0</td>\n",
       "      <td>0</td>\n",
       "      <td>0</td>\n",
       "      <td>0</td>\n",
       "      <td>0</td>\n",
       "      <td>0</td>\n",
       "      <td>0</td>\n",
       "      <td>0</td>\n",
       "      <td>0</td>\n",
       "      <td>0</td>\n",
       "      <td>...</td>\n",
       "      <td>0</td>\n",
       "      <td>0</td>\n",
       "      <td>0</td>\n",
       "      <td>0</td>\n",
       "      <td>0</td>\n",
       "      <td>0</td>\n",
       "      <td>0</td>\n",
       "      <td>0</td>\n",
       "      <td>0</td>\n",
       "      <td>0</td>\n",
       "    </tr>\n",
       "    <tr>\n",
       "      <th>4</th>\n",
       "      <td>0</td>\n",
       "      <td>0</td>\n",
       "      <td>0</td>\n",
       "      <td>0</td>\n",
       "      <td>0</td>\n",
       "      <td>0</td>\n",
       "      <td>0</td>\n",
       "      <td>0</td>\n",
       "      <td>0</td>\n",
       "      <td>0</td>\n",
       "      <td>...</td>\n",
       "      <td>0</td>\n",
       "      <td>0</td>\n",
       "      <td>0</td>\n",
       "      <td>0</td>\n",
       "      <td>0</td>\n",
       "      <td>0</td>\n",
       "      <td>0</td>\n",
       "      <td>0</td>\n",
       "      <td>0</td>\n",
       "      <td>0</td>\n",
       "    </tr>\n",
       "  </tbody>\n",
       "</table>\n",
       "<p>5 rows × 586 columns</p>\n",
       "</div>"
      ],
      "text/plain": [
       "   IUCR_0110  IUCR_0142  IUCR_0261  IUCR_0263  IUCR_0264  IUCR_0265  \\\n",
       "0          0          0          0          0          0          0   \n",
       "1          0          0          0          0          0          0   \n",
       "2          0          0          0          0          0          0   \n",
       "3          0          0          0          0          0          0   \n",
       "4          0          0          0          0          0          0   \n",
       "\n",
       "   IUCR_0266  IUCR_0271  IUCR_0273  IUCR_0275  \\\n",
       "0          0          0          0          0   \n",
       "1          0          0          0          0   \n",
       "2          0          0          0          0   \n",
       "3          0          0          0          0   \n",
       "4          0          0          0          0   \n",
       "\n",
       "                              ...                              \\\n",
       "0                             ...                               \n",
       "1                             ...                               \n",
       "2                             ...                               \n",
       "3                             ...                               \n",
       "4                             ...                               \n",
       "\n",
       "   Description_VEHICLE TITLE/REG OFFENSE  Description_VEHICULAR HIJACKING  \\\n",
       "0                                      0                                0   \n",
       "1                                      0                                0   \n",
       "2                                      0                                0   \n",
       "3                                      0                                0   \n",
       "4                                      0                                0   \n",
       "\n",
       "   Description_VIO BAIL BOND: DOM VIOLENCE  \\\n",
       "0                                        0   \n",
       "1                                        0   \n",
       "2                                        0   \n",
       "3                                        0   \n",
       "4                                        0   \n",
       "\n",
       "   Description_VIOLATE ORDER OF PROTECTION  \\\n",
       "0                                        0   \n",
       "1                                        0   \n",
       "2                                        0   \n",
       "3                                        0   \n",
       "4                                        0   \n",
       "\n",
       "   Description_VIOLATION GPS MONITORING DEVICE  \\\n",
       "0                                            0   \n",
       "1                                            0   \n",
       "2                                            0   \n",
       "3                                            0   \n",
       "4                                            0   \n",
       "\n",
       "   Description_VIOLATION OF CIVIL NO CONTACT ORDER  \\\n",
       "0                                                0   \n",
       "1                                                0   \n",
       "2                                                0   \n",
       "3                                                0   \n",
       "4                                                0   \n",
       "\n",
       "   Description_VIOLATION OF STALKING NO CONTACT ORDER  \\\n",
       "0                                                  0    \n",
       "1                                                  0    \n",
       "2                                                  0    \n",
       "3                                                  0    \n",
       "4                                                  0    \n",
       "\n",
       "   Description_VIOLENT OFFENDER: ANNUAL REGISTRATION  \\\n",
       "0                                                  0   \n",
       "1                                                  0   \n",
       "2                                                  0   \n",
       "3                                                  0   \n",
       "4                                                  0   \n",
       "\n",
       "   Description_VIOLENT OFFENDER: DUTY TO REGISTER  \\\n",
       "0                                               0   \n",
       "1                                               0   \n",
       "2                                               0   \n",
       "3                                               0   \n",
       "4                                               0   \n",
       "\n",
       "   Description_VIOLENT OFFENDER: FAIL TO REGISTER NEW ADDRESS  \n",
       "0                                                  0           \n",
       "1                                                  0           \n",
       "2                                                  0           \n",
       "3                                                  0           \n",
       "4                                                  0           \n",
       "\n",
       "[5 rows x 586 columns]"
      ]
     },
     "execution_count": 20,
     "metadata": {},
     "output_type": "execute_result"
    }
   ],
   "source": [
    "X_work_data_df_wth_dummy.head()"
   ]
  },
  {
   "cell_type": "code",
   "execution_count": 21,
   "metadata": {},
   "outputs": [],
   "source": [
    "Y_work_data_df = work_data_df.iloc[:,1]"
   ]
  },
  {
   "cell_type": "code",
   "execution_count": 22,
   "metadata": {},
   "outputs": [
    {
     "data": {
      "text/plain": [
       "0          BATTERY\n",
       "1    OTHER OFFENSE\n",
       "2          BATTERY\n",
       "3          BATTERY\n",
       "4          ROBBERY\n",
       "Name: Primary Type, dtype: object"
      ]
     },
     "execution_count": 22,
     "metadata": {},
     "output_type": "execute_result"
    }
   ],
   "source": [
    "Y_work_data_df.head()"
   ]
  },
  {
   "cell_type": "code",
   "execution_count": 23,
   "metadata": {},
   "outputs": [],
   "source": [
    "Y_work_data_df_wth_dummy = pd.get_dummies(Y_work_data_df)"
   ]
  },
  {
   "cell_type": "code",
   "execution_count": 24,
   "metadata": {},
   "outputs": [
    {
     "data": {
      "text/html": [
       "<div>\n",
       "<style scoped>\n",
       "    .dataframe tbody tr th:only-of-type {\n",
       "        vertical-align: middle;\n",
       "    }\n",
       "\n",
       "    .dataframe tbody tr th {\n",
       "        vertical-align: top;\n",
       "    }\n",
       "\n",
       "    .dataframe thead th {\n",
       "        text-align: right;\n",
       "    }\n",
       "</style>\n",
       "<table border=\"1\" class=\"dataframe\">\n",
       "  <thead>\n",
       "    <tr style=\"text-align: right;\">\n",
       "      <th></th>\n",
       "      <th>ARSON</th>\n",
       "      <th>ASSAULT</th>\n",
       "      <th>BATTERY</th>\n",
       "      <th>BURGLARY</th>\n",
       "      <th>CONCEALED CARRY LICENSE VIOLATION</th>\n",
       "      <th>CRIM SEXUAL ASSAULT</th>\n",
       "      <th>CRIMINAL DAMAGE</th>\n",
       "      <th>CRIMINAL TRESPASS</th>\n",
       "      <th>DECEPTIVE PRACTICE</th>\n",
       "      <th>GAMBLING</th>\n",
       "      <th>...</th>\n",
       "      <th>OTHER NARCOTIC VIOLATION</th>\n",
       "      <th>OTHER OFFENSE</th>\n",
       "      <th>PROSTITUTION</th>\n",
       "      <th>PUBLIC INDECENCY</th>\n",
       "      <th>PUBLIC PEACE VIOLATION</th>\n",
       "      <th>ROBBERY</th>\n",
       "      <th>SEX OFFENSE</th>\n",
       "      <th>STALKING</th>\n",
       "      <th>THEFT</th>\n",
       "      <th>WEAPONS VIOLATION</th>\n",
       "    </tr>\n",
       "  </thead>\n",
       "  <tbody>\n",
       "    <tr>\n",
       "      <th>0</th>\n",
       "      <td>0</td>\n",
       "      <td>0</td>\n",
       "      <td>1</td>\n",
       "      <td>0</td>\n",
       "      <td>0</td>\n",
       "      <td>0</td>\n",
       "      <td>0</td>\n",
       "      <td>0</td>\n",
       "      <td>0</td>\n",
       "      <td>0</td>\n",
       "      <td>...</td>\n",
       "      <td>0</td>\n",
       "      <td>0</td>\n",
       "      <td>0</td>\n",
       "      <td>0</td>\n",
       "      <td>0</td>\n",
       "      <td>0</td>\n",
       "      <td>0</td>\n",
       "      <td>0</td>\n",
       "      <td>0</td>\n",
       "      <td>0</td>\n",
       "    </tr>\n",
       "    <tr>\n",
       "      <th>1</th>\n",
       "      <td>0</td>\n",
       "      <td>0</td>\n",
       "      <td>0</td>\n",
       "      <td>0</td>\n",
       "      <td>0</td>\n",
       "      <td>0</td>\n",
       "      <td>0</td>\n",
       "      <td>0</td>\n",
       "      <td>0</td>\n",
       "      <td>0</td>\n",
       "      <td>...</td>\n",
       "      <td>0</td>\n",
       "      <td>1</td>\n",
       "      <td>0</td>\n",
       "      <td>0</td>\n",
       "      <td>0</td>\n",
       "      <td>0</td>\n",
       "      <td>0</td>\n",
       "      <td>0</td>\n",
       "      <td>0</td>\n",
       "      <td>0</td>\n",
       "    </tr>\n",
       "    <tr>\n",
       "      <th>2</th>\n",
       "      <td>0</td>\n",
       "      <td>0</td>\n",
       "      <td>1</td>\n",
       "      <td>0</td>\n",
       "      <td>0</td>\n",
       "      <td>0</td>\n",
       "      <td>0</td>\n",
       "      <td>0</td>\n",
       "      <td>0</td>\n",
       "      <td>0</td>\n",
       "      <td>...</td>\n",
       "      <td>0</td>\n",
       "      <td>0</td>\n",
       "      <td>0</td>\n",
       "      <td>0</td>\n",
       "      <td>0</td>\n",
       "      <td>0</td>\n",
       "      <td>0</td>\n",
       "      <td>0</td>\n",
       "      <td>0</td>\n",
       "      <td>0</td>\n",
       "    </tr>\n",
       "    <tr>\n",
       "      <th>3</th>\n",
       "      <td>0</td>\n",
       "      <td>0</td>\n",
       "      <td>1</td>\n",
       "      <td>0</td>\n",
       "      <td>0</td>\n",
       "      <td>0</td>\n",
       "      <td>0</td>\n",
       "      <td>0</td>\n",
       "      <td>0</td>\n",
       "      <td>0</td>\n",
       "      <td>...</td>\n",
       "      <td>0</td>\n",
       "      <td>0</td>\n",
       "      <td>0</td>\n",
       "      <td>0</td>\n",
       "      <td>0</td>\n",
       "      <td>0</td>\n",
       "      <td>0</td>\n",
       "      <td>0</td>\n",
       "      <td>0</td>\n",
       "      <td>0</td>\n",
       "    </tr>\n",
       "    <tr>\n",
       "      <th>4</th>\n",
       "      <td>0</td>\n",
       "      <td>0</td>\n",
       "      <td>0</td>\n",
       "      <td>0</td>\n",
       "      <td>0</td>\n",
       "      <td>0</td>\n",
       "      <td>0</td>\n",
       "      <td>0</td>\n",
       "      <td>0</td>\n",
       "      <td>0</td>\n",
       "      <td>...</td>\n",
       "      <td>0</td>\n",
       "      <td>0</td>\n",
       "      <td>0</td>\n",
       "      <td>0</td>\n",
       "      <td>0</td>\n",
       "      <td>1</td>\n",
       "      <td>0</td>\n",
       "      <td>0</td>\n",
       "      <td>0</td>\n",
       "      <td>0</td>\n",
       "    </tr>\n",
       "  </tbody>\n",
       "</table>\n",
       "<p>5 rows × 32 columns</p>\n",
       "</div>"
      ],
      "text/plain": [
       "   ARSON  ASSAULT  BATTERY  BURGLARY  CONCEALED CARRY LICENSE VIOLATION  \\\n",
       "0      0        0        1         0                                  0   \n",
       "1      0        0        0         0                                  0   \n",
       "2      0        0        1         0                                  0   \n",
       "3      0        0        1         0                                  0   \n",
       "4      0        0        0         0                                  0   \n",
       "\n",
       "   CRIM SEXUAL ASSAULT  CRIMINAL DAMAGE  CRIMINAL TRESPASS  \\\n",
       "0                    0                0                  0   \n",
       "1                    0                0                  0   \n",
       "2                    0                0                  0   \n",
       "3                    0                0                  0   \n",
       "4                    0                0                  0   \n",
       "\n",
       "   DECEPTIVE PRACTICE  GAMBLING        ...          OTHER NARCOTIC VIOLATION  \\\n",
       "0                   0         0        ...                                 0   \n",
       "1                   0         0        ...                                 0   \n",
       "2                   0         0        ...                                 0   \n",
       "3                   0         0        ...                                 0   \n",
       "4                   0         0        ...                                 0   \n",
       "\n",
       "   OTHER OFFENSE  PROSTITUTION  PUBLIC INDECENCY  PUBLIC PEACE VIOLATION  \\\n",
       "0              0             0                 0                       0   \n",
       "1              1             0                 0                       0   \n",
       "2              0             0                 0                       0   \n",
       "3              0             0                 0                       0   \n",
       "4              0             0                 0                       0   \n",
       "\n",
       "   ROBBERY  SEX OFFENSE  STALKING  THEFT  WEAPONS VIOLATION  \n",
       "0        0            0         0      0                  0  \n",
       "1        0            0         0      0                  0  \n",
       "2        0            0         0      0                  0  \n",
       "3        0            0         0      0                  0  \n",
       "4        1            0         0      0                  0  \n",
       "\n",
       "[5 rows x 32 columns]"
      ]
     },
     "execution_count": 24,
     "metadata": {},
     "output_type": "execute_result"
    }
   ],
   "source": [
    "Y_work_data_df_wth_dummy.head()"
   ]
  },
  {
   "cell_type": "code",
   "execution_count": 25,
   "metadata": {},
   "outputs": [],
   "source": [
    "X = X_work_data_df_wth_dummy.values\n",
    "X = X.astype(np.float32)\n",
    "# X_tensor = tf.convert_to_tensor(X, dtype=tf.float32)"
   ]
  },
  {
   "cell_type": "code",
   "execution_count": 26,
   "metadata": {},
   "outputs": [],
   "source": [
    "# type(X_tensor)"
   ]
  },
  {
   "cell_type": "code",
   "execution_count": 27,
   "metadata": {},
   "outputs": [
    {
     "data": {
      "text/plain": [
       "(100000, 586)"
      ]
     },
     "execution_count": 27,
     "metadata": {},
     "output_type": "execute_result"
    }
   ],
   "source": [
    "X.shape"
   ]
  },
  {
   "cell_type": "code",
   "execution_count": 28,
   "metadata": {},
   "outputs": [],
   "source": [
    "Y = Y_work_data_df_wth_dummy.values\n",
    "Y = Y.astype(np.float32)\n",
    "# Y_tensor = tf.convert_to_tensor(Y, dtype=tf.float32)"
   ]
  },
  {
   "cell_type": "code",
   "execution_count": 29,
   "metadata": {},
   "outputs": [
    {
     "data": {
      "text/plain": [
       "(100000, 32)"
      ]
     },
     "execution_count": 29,
     "metadata": {},
     "output_type": "execute_result"
    }
   ],
   "source": [
    "Y.shape"
   ]
  },
  {
   "cell_type": "code",
   "execution_count": 30,
   "metadata": {},
   "outputs": [],
   "source": [
    "x_train, x_test, y_train, y_test = train_test_split(X, Y, test_size=0.2)"
   ]
  },
  {
   "cell_type": "markdown",
   "metadata": {},
   "source": [
    "SPLIT into 3 categories"
   ]
  },
  {
   "cell_type": "code",
   "execution_count": 31,
   "metadata": {},
   "outputs": [],
   "source": [
    "x_train, x_validate, y_train, y_validate = train_test_split(x_train, y_train, test_size=0.1)"
   ]
  },
  {
   "cell_type": "code",
   "execution_count": 32,
   "metadata": {},
   "outputs": [
    {
     "name": "stdout",
     "output_type": "stream",
     "text": [
      "x_train shape: (72000, 586)\n",
      "y_train shape: (72000, 32)\n",
      "x_test shape: (20000, 586)\n",
      "y_test shape: (20000, 32)\n",
      "x_validate shape: (8000, 586)\n",
      "y_validate shape: (8000, 32)\n"
     ]
    }
   ],
   "source": [
    "print (\"x_train shape: \" + str(x_train.shape))\n",
    "print (\"y_train shape: \" + str(y_train.shape))\n",
    "print (\"x_test shape: \" + str(x_test.shape))\n",
    "print (\"y_test shape: \" + str(y_test.shape))\n",
    "print (\"x_validate shape: \" + str(x_validate.shape))\n",
    "print (\"y_validate shape: \" + str(y_validate.shape))"
   ]
  },
  {
   "cell_type": "code",
   "execution_count": 33,
   "metadata": {},
   "outputs": [
    {
     "data": {
      "text/plain": [
       "numpy.ndarray"
      ]
     },
     "execution_count": 33,
     "metadata": {},
     "output_type": "execute_result"
    }
   ],
   "source": [
    "type(x_validate)"
   ]
  },
  {
   "cell_type": "code",
   "execution_count": 34,
   "metadata": {},
   "outputs": [
    {
     "data": {
      "text/plain": [
       "586"
      ]
     },
     "execution_count": 34,
     "metadata": {},
     "output_type": "execute_result"
    }
   ],
   "source": [
    "x_train.shape[1]"
   ]
  },
  {
   "cell_type": "code",
   "execution_count": 35,
   "metadata": {},
   "outputs": [
    {
     "data": {
      "text/plain": [
       "32"
      ]
     },
     "execution_count": 35,
     "metadata": {},
     "output_type": "execute_result"
    }
   ],
   "source": [
    "y_train.shape[1]"
   ]
  },
  {
   "cell_type": "code",
   "execution_count": 36,
   "metadata": {},
   "outputs": [],
   "source": [
    "# train_dataset_tf = tf.data.Dataset.from_tensors((x_train, y_train))\n",
    "# train_dataset_tf = tf.data.Dataset.((x_train, y_train))\n",
    "# train_dataset_tf"
   ]
  },
  {
   "cell_type": "code",
   "execution_count": 37,
   "metadata": {},
   "outputs": [],
   "source": [
    "# type(train_dataset_tf)"
   ]
  },
  {
   "cell_type": "code",
   "execution_count": 38,
   "metadata": {},
   "outputs": [],
   "source": [
    "# train_dataset_tf."
   ]
  },
  {
   "cell_type": "code",
   "execution_count": 39,
   "metadata": {},
   "outputs": [],
   "source": [
    "# type(tf.train.batch([x_train, y_train], batch_size=batch_size, enqueue_many=True))"
   ]
  },
  {
   "cell_type": "code",
   "execution_count": 40,
   "metadata": {},
   "outputs": [],
   "source": [
    "# >>> images = tf.constant(X, dtype=tf.float32) # X is a np.array\n",
    "# >>> labels = tf.constant(y, dtype=tf.int32)   # y is a np.array\n",
    "# >>> batch_images, batch_labels = tf.train.batch([images, labels], batch_size=32, capacity=300, enqueue_many=True)"
   ]
  },
  {
   "cell_type": "markdown",
   "metadata": {},
   "source": [
    "In Below cell we are defining the input data, how it will be used, weights and bias and the mathematical operations that will give the output layer which is the prediction function"
   ]
  },
  {
   "cell_type": "code",
   "execution_count": 41,
   "metadata": {},
   "outputs": [
    {
     "name": "stdout",
     "output_type": "stream",
     "text": [
      "WARNING:tensorflow:From <ipython-input-41-49939e12a9ff>:30: softmax_cross_entropy_with_logits (from tensorflow.python.ops.nn_ops) is deprecated and will be removed in a future version.\n",
      "Instructions for updating:\n",
      "\n",
      "Future major versions of TensorFlow will allow gradients to flow\n",
      "into the labels input on backprop by default.\n",
      "\n",
      "See @{tf.nn.softmax_cross_entropy_with_logits_v2}.\n",
      "\n"
     ]
    }
   ],
   "source": [
    "graph = tf.Graph()\n",
    "with graph.as_default():\n",
    "    \n",
    "    # variables\n",
    "    batch_size = 128\n",
    "    beta = 0.001\n",
    "    # image_size = 28\n",
    "    x_size = x_train.shape[1]\n",
    "    num_labels = y_train.shape[1]\n",
    "    \n",
    "    # input data. For training placeholder is required\n",
    "    ##tf_train_dataset = tf.placeholder(tf.float32, shape=(batch_size, x_size))\n",
    "    ##tf_train_labels = tf.placeholder(tf.float32, shape=(batch_size, num_labels))\n",
    "    tf_train_dataset = tf.placeholder(tf.float32, shape=(x_train.shape[0], x_size))\n",
    "    tf_train_labels = tf.placeholder(tf.float32, shape=(x_train.shape[0], num_labels))\n",
    "    tf_valid_dataset = tf.constant(x_validate)\n",
    "    tf_test_dataset = tf.constant(x_test)\n",
    "    \n",
    "    # weight and biases required for computation\n",
    "    w_logit = tf.Variable(tf.truncated_normal([x_size,num_labels]))\n",
    "    b_logit = tf.Variable(tf.zeros([num_labels]))\n",
    "    \n",
    "    \n",
    "    def model(data):\n",
    "        return tf.matmul(data, w_logit) + b_logit # returns the output layer\n",
    "    \n",
    "    \n",
    "    # training computations\n",
    "    logits = model(tf_train_dataset)\n",
    "    loss = tf.reduce_mean(tf.nn.softmax_cross_entropy_with_logits(logits=logits, labels=tf_train_labels))\n",
    "    regularized_loss = tf.nn.l2_loss(w_logit)\n",
    "    total_loss = loss + beta * regularized_loss\n",
    "    \n",
    "    \n",
    "    # Optimizer\n",
    "    optimizer = tf.train.GradientDescentOptimizer(0.5).minimize(total_loss)\n",
    "    \n",
    "    \n",
    "    # Prediction for Training, Validation, Test\n",
    "    train_prediction = tf.nn.softmax(logits)\n",
    "    valid_prediction = tf.nn.softmax(model(tf_valid_dataset))\n",
    "    test_prediction = tf.nn.softmax(model(tf_test_dataset))"
   ]
  },
  {
   "cell_type": "markdown",
   "metadata": {},
   "source": [
    "Below cell is used to calculate the accuracy"
   ]
  },
  {
   "cell_type": "code",
   "execution_count": 42,
   "metadata": {},
   "outputs": [],
   "source": [
    "def accuracy(predictions, labels):\n",
    "    return (100.0 * np.sum(np.argmax(predictions, 1) == np.argmax(labels, 1))/predictions.shape[0])"
   ]
  },
  {
   "cell_type": "markdown",
   "metadata": {},
   "source": [
    "Below cell is the model and the number of times the model will be executed is 5000. Accuracy after every 500 iterations is also displayed and we can see the change\n",
    "\n",
    "Final accuracy displayed is after the full model is trained and comparison of y_pred with respect to y_test"
   ]
  },
  {
   "cell_type": "code",
   "execution_count": 43,
   "metadata": {},
   "outputs": [],
   "source": [
    "import time"
   ]
  },
  {
   "cell_type": "code",
   "execution_count": 44,
   "metadata": {},
   "outputs": [
    {
     "name": "stdout",
     "output_type": "stream",
     "text": [
      "WARNING:tensorflow:From /home/ec2-user/anaconda3/envs/tensorflow_p36/lib/python3.6/site-packages/tensorflow/python/util/tf_should_use.py:118: initialize_all_variables (from tensorflow.python.ops.variables) is deprecated and will be removed after 2017-03-02.\n",
      "Instructions for updating:\n",
      "Use `tf.global_variables_initializer` instead.\n",
      "Initialized\n",
      "Minibatch loss at step 0: 4.011883\n",
      "Minibatch accuracy: 1.0%\n",
      "Validation accuracy: 1.2%\n",
      "Minibatch loss at step 500: 0.612696\n",
      "Minibatch accuracy: 87.6%\n",
      "Validation accuracy: 87.7%\n",
      "Minibatch loss at step 1000: 0.428692\n",
      "Minibatch accuracy: 93.0%\n",
      "Validation accuracy: 93.0%\n",
      "Minibatch loss at step 1500: 0.362346\n",
      "Minibatch accuracy: 95.2%\n",
      "Validation accuracy: 95.1%\n",
      "Minibatch loss at step 2000: 0.330573\n",
      "Minibatch accuracy: 96.0%\n",
      "Validation accuracy: 95.8%\n",
      "Minibatch loss at step 2500: 0.313340\n",
      "Minibatch accuracy: 96.4%\n",
      "Validation accuracy: 96.2%\n",
      "Minibatch loss at step 3000: 0.303252\n",
      "Minibatch accuracy: 96.5%\n",
      "Validation accuracy: 96.4%\n",
      "Minibatch loss at step 3500: 0.297028\n",
      "Minibatch accuracy: 96.6%\n",
      "Validation accuracy: 96.5%\n",
      "Minibatch loss at step 4000: 0.293029\n",
      "Minibatch accuracy: 97.2%\n",
      "Validation accuracy: 97.1%\n",
      "Minibatch loss at step 4500: 0.290387\n",
      "Minibatch accuracy: 97.4%\n",
      "Validation accuracy: 97.3%\n",
      "Minibatch loss at step 5000: 0.288602\n",
      "Minibatch accuracy: 97.4%\n",
      "Validation accuracy: 97.3%\n",
      "Test accuracy: 97.4%\n",
      "Time to run = 54.352333333333334 minutes\n"
     ]
    }
   ],
   "source": [
    "t0 = time.clock()\n",
    "\n",
    "num_steps = 5001\n",
    "\n",
    "with tf.Session(graph=graph) as session:\n",
    "    tf.initialize_all_variables().run()\n",
    "    print(\"Initialized\")\n",
    "    for step in range(num_steps):\n",
    "        \n",
    "        # Generate a mini batch\n",
    "        ##batch_data, batch_labels = train_dataset_tf.next_batch(batch_size)\n",
    "        ##batch_data, batch_labels = tf.train.batch([x_train, y_train], batch_size=batch_size, enqueue_many=True)\n",
    "        batch_data, batch_labels = x_train, y_train\n",
    "        \n",
    "        # dictionary with variables required traversing the graph\n",
    "        feed_dict = {tf_train_dataset : batch_data, tf_train_labels : batch_labels}\n",
    "        \n",
    "        _, l, predictions = session.run([optimizer, loss, train_prediction], feed_dict=feed_dict)\n",
    "        \n",
    "        if (step % 500 == 0):\n",
    "            print(\"Minibatch loss at step %d: %f\" % (step, l))\n",
    "            print(\"Minibatch accuracy: %.1f%%\" % accuracy(predictions, batch_labels))\n",
    "            print(\"Validation accuracy: %.1f%%\" % accuracy(valid_prediction.eval(), y_validate))\n",
    "    print(\"Test accuracy: %.1f%%\" % accuracy(test_prediction.eval(), y_test))\n",
    "\n",
    "t1 = time.clock()\n",
    "\n",
    "total = (t1-t0)/60\n",
    "print(\"Time to run = \"+str(total) +\" minutes\")"
   ]
  },
  {
   "cell_type": "markdown",
   "metadata": {},
   "source": [
    "The Time is for Hundred Thousand records and not the whole dataset as it was talking huge amount of time and my system was crashing\n",
    "\n",
    "Time to run on Local Machine: 14.6 minutes\n",
    "\n",
    "It was strange that my machine was faster.\n",
    "Machine configuration: Windows 10, Intel I5 processor, 8GB RAM"
   ]
  }
 ],
 "metadata": {
  "kernelspec": {
   "display_name": "Python 3",
   "language": "python",
   "name": "python3"
  },
  "language_info": {
   "codemirror_mode": {
    "name": "ipython",
    "version": 3
   },
   "file_extension": ".py",
   "mimetype": "text/x-python",
   "name": "python",
   "nbconvert_exporter": "python",
   "pygments_lexer": "ipython3",
   "version": "3.6.5"
  }
 },
 "nbformat": 4,
 "nbformat_minor": 2
}
